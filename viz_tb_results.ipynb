{
 "cells": [
  {
   "cell_type": "code",
   "execution_count": null,
   "metadata": {},
   "outputs": [],
   "source": [
    "# use new_torch_env to get cv2\n",
    "\n",
    "import os\n",
    "\n",
    "import numpy as np\n",
    "import pandas as pd\n",
    "import seaborn as sns\n",
    "\n",
    "import cv2\n",
    "import matplotlib.pyplot as plt\n",
    "\n",
    "import pickle"
   ]
  },
  {
   "cell_type": "code",
   "execution_count": null,
   "metadata": {},
   "outputs": [],
   "source": [
    "def plot_sample(dict_of_dfs, att, sample = 'top', measure = 'lsr_mean'):\n",
    "\n",
    "    n = 16\n",
    "\n",
    "    if sample == 'top':\n",
    "        sample_img = dict_of_dfs[att].sort_values(measure, ascending = False)['img'][0:n].values\n",
    "        scores = dict_of_dfs[att].sort_values(measure, ascending = False)[measure][0:n].values\n",
    "    \n",
    "    elif sample == 'bottom':\n",
    "        sample_img = dict_of_dfs[att].sort_values(measure, ascending = True)['img'][0:n].values\n",
    "        scores = dict_of_dfs[att].sort_values(measure, ascending = True)[measure][0:n].values\n",
    "\n",
    "    \n",
    "    elif sample == 'radom':\n",
    "        sample_img = dict_of_dfs[att].sort_values(measure, ascending = True)['img'].sample(n).values\n",
    "        scores = dict_of_dfs[att].sort_values(measure, ascending = True)[measure].sample(n).values\n",
    "\n",
    "    else:\n",
    "        print('wrong input')\n",
    "\n",
    "\n",
    "    imgs_dir = '/media/simon/Seagate Expansion Drive/images_spanner'\n",
    "\n",
    "    plt.figure(figsize = [15,10])\n",
    "    for i, j in enumerate(sample_img):\n",
    "\n",
    "        path_image = os.path.join(imgs_dir, j)\n",
    "\n",
    "        plt.subplot(int(np.sqrt(n)), int(np.sqrt(n)), i+1)\n",
    "        plt.subplots_adjust(hspace = 0.3, wspace = 0.1)\n",
    "            \n",
    "        img = cv2.imread(path_image)\n",
    "        img = cv2.cvtColor(img, cv2.COLOR_BGR2RGB) # correcting the colors:\n",
    "        plt.imshow(img)\n",
    "        #plt.xticks([])\n",
    "        #plt.yticks([])\n",
    "        plt.title(f'{j}, {measure.split(\"_\")[0]} = {scores[i]:.3f}')\n",
    "\n",
    "    suptitle = f'{att}, {sample} {n} images'\n",
    "    plt.suptitle(suptitle, size=16)\n",
    "\n",
    "    fig_path = f'plots/{att}_{sample}_{n}.pdf'\n",
    "    plt.savefig(fig_path, bbox_inches=\"tight\")    \n",
    "\n",
    "    plt.show()"
   ]
  },
  {
   "cell_type": "code",
   "execution_count": null,
   "metadata": {},
   "outputs": [],
   "source": [
    "def loop_plot(dict_of_dfs):\n",
    "\n",
    "    for att in dict_of_dfs1.keys():\n",
    "\n",
    "        plot_sample(dict_of_dfs, att, sample='top', measure = 'lsr_mean')\n",
    "        plot_sample(dict_of_dfs, att, sample='bottom', measure = 'lsr_mean')"
   ]
  },
  {
   "cell_type": "code",
   "execution_count": null,
   "metadata": {},
   "outputs": [],
   "source": [
    "file_name1 = 'dict_of_dfs1.pkl'\n",
    "\n",
    "with open(file_name1, 'rb') as file:      \n",
    "    dict_of_dfs1 = pickle.load(file)"
   ]
  },
  {
   "cell_type": "code",
   "execution_count": null,
   "metadata": {},
   "outputs": [],
   "source": [
    "file_name3 = 'dict_of_dfs3.pkl'\n",
    "\n",
    "with open(file_name3, 'rb') as file:      \n",
    "    dict_of_dfs3 = pickle.load(file)"
   ]
  },
  {
   "cell_type": "code",
   "execution_count": null,
   "metadata": {},
   "outputs": [],
   "source": [
    "loop_plot(dict_of_dfs3)"
   ]
  }
 ],
 "metadata": {
  "interpreter": {
   "hash": "7fcc707ba52361edf59c8725809d3f80fff5a023f2a5646c9753e548f7e28de1"
  },
  "kernelspec": {
   "display_name": "Python 3.8.8 ('new_torch_env')",
   "language": "python",
   "name": "python3"
  },
  "language_info": {
   "codemirror_mode": {
    "name": "ipython",
    "version": 3
   },
   "file_extension": ".py",
   "mimetype": "text/x-python",
   "name": "python",
   "nbconvert_exporter": "python",
   "pygments_lexer": "ipython3",
   "version": "3.8.8"
  },
  "orig_nbformat": 4
 },
 "nbformat": 4,
 "nbformat_minor": 2
}

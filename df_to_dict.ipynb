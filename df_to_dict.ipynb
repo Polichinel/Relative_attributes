{
 "cells": [
  {
   "cell_type": "code",
   "execution_count": 1,
   "metadata": {},
   "outputs": [],
   "source": [
    "import numpy as np\n",
    "import pandas as pd\n",
    "import pickle"
   ]
  },
  {
   "cell_type": "code",
   "execution_count": 18,
   "metadata": {},
   "outputs": [],
   "source": [
    "def change_and_dump():\n",
    "    \n",
    "    dir_path = '/home/simon/Documents/Bodies/data/RA/dfs/'\n",
    "\n",
    "    with open(f'{dir_path}ra_ens_annotated_df.pkl', 'rb') as file:\n",
    "        df = pickle.load(file)\n",
    "\n",
    "        df_no_nans = df.iloc[:,:-1].fillna(df.iloc[:,:-1].mean())\n",
    "        df_no_nans['img'] = df['img']\n",
    "\n",
    "    # make dict\n",
    "    attribute_dict = {}\n",
    "\n",
    "    for i in df_no_nans.columns:\n",
    "        attribute_dict[i]= list(df_no_nans[i])\n",
    "\n",
    "    # check\n",
    "    new_df = pd.DataFrame(attribute_dict)\n",
    "    if df_no_nans.equals(new_df) == True:\n",
    "        print('it works')"
   ]
  }
 ],
 "metadata": {
  "kernelspec": {
   "display_name": "Python 3.8.8 ('new_torch_env')",
   "language": "python",
   "name": "python3"
  },
  "language_info": {
   "codemirror_mode": {
    "name": "ipython",
    "version": 3
   },
   "file_extension": ".py",
   "mimetype": "text/x-python",
   "name": "python",
   "nbconvert_exporter": "python",
   "pygments_lexer": "ipython3",
   "version": "3.8.8"
  },
  "orig_nbformat": 4,
  "vscode": {
   "interpreter": {
    "hash": "7fcc707ba52361edf59c8725809d3f80fff5a023f2a5646c9753e548f7e28de1"
   }
  }
 },
 "nbformat": 4,
 "nbformat_minor": 2
}

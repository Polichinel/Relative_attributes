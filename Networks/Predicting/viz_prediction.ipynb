{
 "cells": [
  {
   "cell_type": "code",
   "execution_count": null,
   "metadata": {},
   "outputs": [],
   "source": [
    "import os\n",
    "import numpy as np\n",
    "import pandas as pd\n",
    "import pickle\n",
    "\n",
    "import matplotlib.pyplot as plt\n",
    "import cv2\n",
    "\n",
    "# you should also visualize this shit to sanity-test it"
   ]
  },
  {
   "cell_type": "code",
   "execution_count": null,
   "metadata": {},
   "outputs": [],
   "source": [
    "def get_ra_dfs():\n",
    "\n",
    "    \"\"\"not pretty but gets the job done...\"\"\"\n",
    "\n",
    "    tuple_dir = \"/home/simon/Documents/Bodies/data/ra_outputs\"\n",
    "\n",
    "    score_dict = {}\n",
    "\n",
    "    for root, dirs, files in os.walk(tuple_dir):\n",
    "        for tuple_name in files:\n",
    "            if tuple_name.split('_')[-1] == 'tuple.pkl':\n",
    "                tuple_path = os.path.join(tuple_dir, tuple_name) \n",
    "        \n",
    "                with open(tuple_path, 'rb') as file: \n",
    "                    att_tuple = pickle.load(file)\n",
    "\n",
    "                score_dict[f'{tuple_name[:-10]}'] = att_tuple\n",
    "\n",
    "\n",
    "    convnext_dict = {}\n",
    "    convnext_dict['img'] = np.array(score_dict[list(score_dict.keys())[1]][0]).squeeze() # not importen which one but I use 1=convnext_rural \n",
    "\n",
    "    for i in list(score_dict.keys()):\n",
    "        if i.split('_')[0] == 'convnext':\n",
    "\n",
    "            att_name = \"_\".join(i.split('_')[-2:])\n",
    "            convnext_dict[att_name] = np.array(score_dict[i][1]).squeeze()\n",
    "\n",
    "    convnext_df = pd.DataFrame(convnext_dict)\n",
    "    convnext_df.to_pickle(f\"{tuple_dir}/convnext_df.pkl\")\n",
    "\n",
    "\n",
    "    efficientnet_dict = {}\n",
    "    efficientnet_dict['img'] = np.array(score_dict[list(score_dict.keys())[0]][0]).squeeze() # not importen which one but I use 0= efficientnet rural \n",
    "\n",
    "    for i in list(score_dict.keys()):\n",
    "        if i.split('_')[0] == 'efficientnet':\n",
    "\n",
    "            att_name = \"_\".join(i.split('_')[-2:])\n",
    "\n",
    "            array = np.array(score_dict[i][1]).squeeze()\n",
    "\n",
    "            norm_array = (array - array.mean())/array.std()\n",
    "\n",
    "            efficientnet_dict[att_name] = norm_array\n",
    "        \n",
    "    efficientnet_df = pd.DataFrame(efficientnet_dict)\n",
    "    efficientnet_df.to_pickle(f\"{tuple_dir}/efficientnet_df.pkl\")\n",
    "\n",
    "\n",
    "    swin_dict = {}\n",
    "    swin_dict['img'] = np.array(score_dict[list(score_dict.keys())[0]][0]).squeeze() # not importen which one but I use 0= efficientnet rural \n",
    "\n",
    "    for i in list(score_dict.keys()):\n",
    "        if i.split('_')[0] == 'swin':\n",
    "\n",
    "            att_name = \"_\".join(i.split('_')[-2:])\n",
    "\n",
    "            array = np.array(score_dict[i][1]).squeeze()\n",
    "\n",
    "            #norm_array = (array - array.mean())/array.std()\n",
    "\n",
    "            swin_dict[att_name] = array#norm_array\n",
    "\n",
    "    swin_df = pd.DataFrame(swin_dict)\n",
    "    swin_df.to_pickle(f\"{tuple_dir}/swin_df.pkl\")  \n",
    "\n",
    "\n",
    "    return(convnext_df, efficientnet_df, swin_df) "
   ]
  },
  {
   "cell_type": "code",
   "execution_count": null,
   "metadata": {},
   "outputs": [],
   "source": [
    "convnext_df, efficientnet_df, swin_df = get_ra_dfs()"
   ]
  },
  {
   "cell_type": "code",
   "execution_count": null,
   "metadata": {},
   "outputs": [],
   "source": [
    "# tuple_dir = \"/home/simon/Documents/Bodies/data/ra_outputs\"\n",
    "\n",
    "# score_dict = {}\n",
    "\n",
    "# for root, dirs, files in os.walk(tuple_dir):\n",
    "#     for tuple_name in files:\n",
    "#         if tuple_name.split('_')[-1] == 'tuple.pkl':\n",
    "#             tuple_path = os.path.join(tuple_dir, tuple_name) \n",
    "    \n",
    "#             with open(tuple_path, 'rb') as file: \n",
    "#                 att_tuple = pickle.load(file)\n",
    "\n",
    "#             score_dict[f'{tuple_name[:-10]}'] = att_tuple\n",
    "            \n",
    "\n"
   ]
  },
  {
   "cell_type": "code",
   "execution_count": null,
   "metadata": {},
   "outputs": [],
   "source": [
    "# convnext_dict = {}\n",
    "\n",
    "# convnext_dict['img'] = np.array(score_dict[list(score_dict.keys())[1]][0]).squeeze() # not importen which one but I use 1=convnext_rural \n",
    "\n",
    "# for i in list(score_dict.keys()):\n",
    "#     if i.split('_')[0] == 'convnext':\n",
    "\n",
    "#         att_name = \"_\".join(i.split('_')[-2:])\n",
    "#         convnext_dict[att_name] = np.array(score_dict[i][1]).squeeze()\n",
    "\n",
    "# convnext_df = pd.DataFrame(convnext_dict)"
   ]
  },
  {
   "cell_type": "code",
   "execution_count": null,
   "metadata": {},
   "outputs": [],
   "source": [
    "# efficientnet_dict = {}\n",
    "\n",
    "# efficientnet_dict['img'] = np.array(score_dict[list(score_dict.keys())[0]][0]).squeeze() # not importen which one but I use 0= efficientnet rural \n",
    "\n",
    "# for i in list(score_dict.keys()):\n",
    "#     if i.split('_')[0] == 'efficientnet':\n",
    "\n",
    "#         att_name = \"_\".join(i.split('_')[-2:])\n",
    "\n",
    "#         array = np.array(score_dict[i][1]).squeeze()\n",
    "\n",
    "#         norm_array = (array - array.mean())/array.std()\n",
    "\n",
    "#         efficientnet_dict[att_name] = norm_array\n",
    "    \n",
    "# efficientnet_df = pd.DataFrame(efficientnet_dict)"
   ]
  },
  {
   "cell_type": "code",
   "execution_count": null,
   "metadata": {},
   "outputs": [],
   "source": [
    "# swin_dict = {}\n",
    "\n",
    "# swin_dict['img'] = np.array(score_dict[list(score_dict.keys())[0]][0]).squeeze() # not importen which one but I use 0= efficientnet rural \n",
    "\n",
    "# for i in list(score_dict.keys()):\n",
    "#     if i.split('_')[0] == 'swin':\n",
    "\n",
    "#         att_name = \"_\".join(i.split('_')[-2:])\n",
    "\n",
    "#         array = np.array(score_dict[i][1]).squeeze()\n",
    "\n",
    "#         #norm_array = (array - array.mean())/array.std()\n",
    "\n",
    "#         swin_dict[att_name] = array#norm_array\n",
    "\n",
    "# swin_df = pd.DataFrame(swin_dict)"
   ]
  },
  {
   "cell_type": "code",
   "execution_count": null,
   "metadata": {},
   "outputs": [],
   "source": [
    "plt.figure(figsize=[25,15])\n",
    "\n",
    "for i, att in enumerate(list(efficientnet_df.columns)[1:]):\n",
    "\n",
    "    y = efficientnet_df.loc[:,att]\n",
    "    x = convnext_df.loc[:,att]\n",
    "\n",
    "    plt.subplot(2,5, i+1)\n",
    "\n",
    "    plt.title(att)\n",
    "    plt.scatter(x,y)\n",
    "\n",
    "plt.show()"
   ]
  },
  {
   "cell_type": "code",
   "execution_count": null,
   "metadata": {},
   "outputs": [],
   "source": [
    "plt.figure(figsize=[25,15])\n",
    "\n",
    "for i, att in enumerate(list(swin_df.columns)[1:]):\n",
    "\n",
    "    y = swin_df.loc[:,att]\n",
    "    x = convnext_df.loc[:,att]\n",
    "\n",
    "    plt.subplot(2,5, i+1)\n",
    "\n",
    "    plt.title(att)\n",
    "    plt.scatter(x,y)\n",
    "\n",
    "plt.show()"
   ]
  },
  {
   "cell_type": "code",
   "execution_count": null,
   "metadata": {},
   "outputs": [],
   "source": [
    "def loop_plot(ra_df, model, sample = 'top'):\n",
    "\n",
    "    for measure in ra_df.columns[1:]: # not img\n",
    "\n",
    "        n = 16\n",
    "\n",
    "        if sample == 'top':\n",
    "            sample_img = ra_df.sort_values(measure, ascending = False)['img'][0:n].values\n",
    "            scores = ra_df.sort_values(measure, ascending = False)[measure][0:n].values\n",
    "\n",
    "        elif sample == 'bottom':\n",
    "            sample_img = ra_df.sort_values(measure, ascending = True)['img'][0:n].values\n",
    "            scores =ra_df.sort_values(measure, ascending = True)[measure][0:n].values\n",
    "\n",
    "\n",
    "        elif sample == 'random':\n",
    "            sample_img = ra_df.sort_values(measure, ascending = True)['img'].sample(n).values\n",
    "            scores = ra_df.sort_values(measure, ascending = True)[measure].sample(n).values\n",
    "\n",
    "        else:\n",
    "            print('wrong input')\n",
    "\n",
    "\n",
    "        imgs_dir = '/media/simon/Seagate Expansion Drive/images_spanner'\n",
    "        eks_dir = '/home/simon/Documents/Bodies/figures/ra_eks'\n",
    "\n",
    "        plt.figure(figsize = [30,20])\n",
    "        for i, j in enumerate(sample_img):\n",
    "\n",
    "            path_image = os.path.join(imgs_dir, j)\n",
    "\n",
    "            plt.subplot(int(np.sqrt(n)), int(np.sqrt(n)), i+1)\n",
    "            plt.subplots_adjust(hspace = 0.3, wspace = 0.1)\n",
    "                \n",
    "            img = cv2.imread(path_image)\n",
    "            img = cv2.cvtColor(img, cv2.COLOR_BGR2RGB) # correcting the colors:\n",
    "            plt.imshow(img)\n",
    "            plt.title(f'{j}, {measure} = {scores[i]:.3f}')\n",
    "\n",
    "        suptitle = f'{measure}, {model}, {sample} {n} images'\n",
    "        plt.suptitle(suptitle, size=16)\n",
    "\n",
    "        fig_path = f'{eks_dir}/{model}_{measure}_{sample}.pdf'\n",
    "        plt.savefig(fig_path, bbox_inches=\"tight\")\n",
    "\n",
    "        plt.show()"
   ]
  },
  {
   "cell_type": "code",
   "execution_count": null,
   "metadata": {},
   "outputs": [],
   "source": [
    "for i in ['top', 'bottom']:\n",
    "    loop_plot(convnext_df, 'convnext', sample = i)"
   ]
  },
  {
   "cell_type": "code",
   "execution_count": null,
   "metadata": {},
   "outputs": [],
   "source": [
    "for i in ['top', 'bottom']:\n",
    "    loop_plot(efficientnet_df, 'efficientnet', sample = i)"
   ]
  },
  {
   "cell_type": "code",
   "execution_count": null,
   "metadata": {},
   "outputs": [],
   "source": [
    "for i in ['top', 'bottom']:\n",
    "    loop_plot(swin_df, 'swin', sample = i)"
   ]
  },
  {
   "cell_type": "code",
   "execution_count": null,
   "metadata": {},
   "outputs": [],
   "source": []
  },
  {
   "cell_type": "code",
   "execution_count": null,
   "metadata": {},
   "outputs": [],
   "source": []
  },
  {
   "cell_type": "code",
   "execution_count": null,
   "metadata": {},
   "outputs": [],
   "source": []
  },
  {
   "cell_type": "code",
   "execution_count": null,
   "metadata": {},
   "outputs": [],
   "source": []
  },
  {
   "cell_type": "code",
   "execution_count": null,
   "metadata": {},
   "outputs": [],
   "source": []
  },
  {
   "cell_type": "code",
   "execution_count": null,
   "metadata": {},
   "outputs": [],
   "source": []
  },
  {
   "cell_type": "markdown",
   "metadata": {},
   "source": [
    "# OLD"
   ]
  },
  {
   "cell_type": "code",
   "execution_count": null,
   "metadata": {},
   "outputs": [],
   "source": []
  },
  {
   "cell_type": "code",
   "execution_count": null,
   "metadata": {},
   "outputs": [],
   "source": [
    "bodies_pkl = '/home/simon/Documents/Bodies/data/done_dfs/bodies_df_2022_v1_1.pkl'\n",
    "bodies_df = pd.read_pickle(bodies_pkl)"
   ]
  },
  {
   "cell_type": "code",
   "execution_count": null,
   "metadata": {},
   "outputs": [],
   "source": [
    "output_dir = '/home/simon/Documents/computerome/ra_outputs/'\n",
    "convnext_pkl = 'swin_t_score_dict' \n",
    "efficient_pkl = 'efficientnet_v2_s_score_dict'\n",
    "swin_pkl = 'swin_t_score_dict'\n",
    "\n",
    "  \n",
    "with open(f'{output_dir}{convnext_pkl}.pkl', 'rb') as file: \n",
    "    convnext_dict = pickle.load(file)\n",
    "  \n",
    "with open(f'{output_dir}{efficient_pkl}.pkl', 'rb') as file: \n",
    "    efficient_dict = pickle.load(file)\n",
    "\n",
    "with open(f'{output_dir}{swin_pkl}.pkl', 'rb') as file: \n",
    "    swin_dict = pickle.load(file)\n"
   ]
  },
  {
   "cell_type": "code",
   "execution_count": null,
   "metadata": {},
   "outputs": [],
   "source": [
    "# just checkin:\n",
    "\n",
    "print(convnext_dict['all_negative_emotions_t1_id'] == convnext_dict['all_mass_protest_id'])\n",
    "print(convnext_dict['all_mass_protest_id'] == convnext_dict['all_militarized_id'])\n",
    "print(convnext_dict['all_militarized_id'] == convnext_dict['all_urban_id'])\n",
    "print(convnext_dict['all_urban_id'] == convnext_dict['all_negative_emotions_t2_id'])\n",
    "print(convnext_dict['all_negative_emotions_t2_id'] == convnext_dict['all_privat_id'])\n",
    "print(convnext_dict['all_privat_id'] == convnext_dict['all_negative_emotions_t1_id'])\n",
    "\n",
    "print(efficient_dict['all_negative_emotions_t1_id'] == efficient_dict['all_mass_protest_id'])\n",
    "print(efficient_dict['all_mass_protest_id'] == efficient_dict['all_militarized_id'])\n",
    "print(efficient_dict['all_militarized_id'] == efficient_dict['all_urban_id'])\n",
    "print(efficient_dict['all_urban_id'] == efficient_dict['all_negative_emotions_t2_id'])\n",
    "print(efficient_dict['all_negative_emotions_t2_id'] == efficient_dict['all_privat_id'])\n",
    "print(efficient_dict['all_privat_id'] == efficient_dict['all_negative_emotions_t1_id'])\n",
    "\n",
    "print(swin_dict['all_negative_emotions_t1_id'] == swin_dict['all_mass_protest_id'])\n",
    "print(swin_dict['all_mass_protest_id'] == swin_dict['all_militarized_id'])\n",
    "print(swin_dict['all_militarized_id'] == swin_dict['all_urban_id'])\n",
    "print(swin_dict['all_urban_id'] == swin_dict['all_negative_emotions_t2_id'])\n",
    "print(swin_dict['all_negative_emotions_t2_id'] == swin_dict['all_privat_id'])\n",
    "print(swin_dict['all_privat_id'] == swin_dict['all_negative_emotions_t1_id'])\n",
    "\n",
    "print(swin_dict['all_privat_id'] == convnext_dict['all_negative_emotions_t1_id'])\n",
    "print(convnext_dict['all_privat_id'] == efficient_dict['all_negative_emotions_t1_id'])\n",
    "# they are all the same\n"
   ]
  },
  {
   "cell_type": "code",
   "execution_count": null,
   "metadata": {},
   "outputs": [],
   "source": [
    "ra_dict = {}\n",
    "ra_dict['img'] = convnext_dict['all_negative_emotions_t1_id'] # could be any network and and any id att. They are all the same\n",
    "\n",
    "for i in list(convnext_dict.keys()):\n",
    "    if i.endswith('_score'):\n",
    "        ra_dict[f'convnext_{i}'] = convnext_dict[i][0]\n",
    "\n",
    "for i in list(efficient_dict.keys()):\n",
    "    if i.endswith('_score'):\n",
    "        ra_dict[f'efficient_{i}'] = efficient_dict[i][0]\n",
    "\n",
    "for i in list(swin_dict.keys()):\n",
    "    if i.endswith('_score'):\n",
    "        ra_dict[f'swin_{i}'] = swin_dict[i][0]\n",
    "\n",
    "ra_df = pd.DataFrame(ra_dict)"
   ]
  },
  {
   "cell_type": "code",
   "execution_count": null,
   "metadata": {},
   "outputs": [],
   "source": [
    "ra_df # lovely but you should not only have 3000 ish images.."
   ]
  },
  {
   "cell_type": "code",
   "execution_count": null,
   "metadata": {},
   "outputs": [],
   "source": [
    "# but you can still see if you think these scores make sense and plot some images...\n",
    "# or you could corrolate it with some stuff...\n",
    "# or go on to conflict net...."
   ]
  },
  {
   "cell_type": "code",
   "execution_count": null,
   "metadata": {},
   "outputs": [],
   "source": [
    "ra_df.loc[:,['convnext_all_negative_emotions_t1_score', 'swin_all_negative_emotions_t1_score']]"
   ]
  },
  {
   "cell_type": "code",
   "execution_count": null,
   "metadata": {},
   "outputs": [],
   "source": [
    "ra_df.columns[1:11]"
   ]
  },
  {
   "cell_type": "code",
   "execution_count": null,
   "metadata": {},
   "outputs": [],
   "source": [
    "def loop_plot(sample = 'top'):\n",
    "\n",
    "    for measure in ra_df.columns[1:11]: # not img and only convnext\n",
    "\n",
    "        n = 16\n",
    "\n",
    "        if sample == 'top':\n",
    "            sample_img = ra_df.sort_values(measure, ascending = False)['img'][0:n].values\n",
    "            scores = ra_df.sort_values(measure, ascending = False)[measure][0:n].values\n",
    "\n",
    "        elif sample == 'bottom':\n",
    "            sample_img = ra_df.sort_values(measure, ascending = True)['img'][0:n].values\n",
    "            scores =ra_df.sort_values(measure, ascending = True)[measure][0:n].values\n",
    "\n",
    "\n",
    "        elif sample == 'random':\n",
    "            sample_img = ra_df.sort_values(measure, ascending = True)['img'].sample(n).values\n",
    "            scores = ra_df.sort_values(measure, ascending = True)[measure].sample(n).values\n",
    "\n",
    "        else:\n",
    "            print('wrong input')\n",
    "\n",
    "\n",
    "        imgs_dir = '/media/simon/Seagate Expansion Drive/images_spanner'\n",
    "        eks_dir = '/home/simon/Documents/Bodies/figures/ra_eks'\n",
    "\n",
    "        plt.figure(figsize = [30,20])\n",
    "        for i, j in enumerate(sample_img):\n",
    "\n",
    "            path_image = os.path.join(imgs_dir, j)\n",
    "\n",
    "            plt.subplot(int(np.sqrt(n)), int(np.sqrt(n)), i+1)\n",
    "            plt.subplots_adjust(hspace = 0.3, wspace = 0.1)\n",
    "                \n",
    "            img = cv2.imread(path_image)\n",
    "            img = cv2.cvtColor(img, cv2.COLOR_BGR2RGB) # correcting the colors:\n",
    "            plt.imshow(img)\n",
    "            plt.title(f'{j}, {measure} = {scores[i]:.3f}')\n",
    "\n",
    "        suptitle = f'{measure}, {sample} {n} images'\n",
    "        plt.suptitle(suptitle, size=16)\n",
    "\n",
    "        fig_path = f'{eks_dir}/{measure}_{sample}.pdf'\n",
    "        plt.savefig(fig_path, bbox_inches=\"tight\")\n",
    "\n",
    "        plt.show()"
   ]
  },
  {
   "cell_type": "code",
   "execution_count": null,
   "metadata": {},
   "outputs": [],
   "source": [
    "for i in ['top', 'bottom']:\n",
    "    loop_plot(sample = i)"
   ]
  },
  {
   "cell_type": "code",
   "execution_count": null,
   "metadata": {},
   "outputs": [],
   "source": []
  },
  {
   "cell_type": "code",
   "execution_count": null,
   "metadata": {},
   "outputs": [],
   "source": []
  },
  {
   "cell_type": "code",
   "execution_count": null,
   "metadata": {},
   "outputs": [],
   "source": []
  },
  {
   "cell_type": "code",
   "execution_count": null,
   "metadata": {},
   "outputs": [],
   "source": []
  },
  {
   "cell_type": "code",
   "execution_count": null,
   "metadata": {},
   "outputs": [],
   "source": []
  },
  {
   "cell_type": "code",
   "execution_count": null,
   "metadata": {},
   "outputs": [],
   "source": []
  },
  {
   "cell_type": "code",
   "execution_count": null,
   "metadata": {},
   "outputs": [],
   "source": [
    "def plot_sample(dict_of_dfs, att, measure, sample = 'top'):\n",
    "\n",
    "    n = 16\n",
    "    #measure = 'ens_score'\n",
    "\n",
    "    if sample == 'top':\n",
    "        sample_img = dict_of_dfs[att].sort_values(measure, ascending = False)['img'][0:n].values\n",
    "        scores = dict_of_dfs[att].sort_values(measure, ascending = False)[measure][0:n].values\n",
    "    \n",
    "    elif sample == 'bottom':\n",
    "        sample_img = dict_of_dfs[att].sort_values(measure, ascending = True)['img'][0:n].values\n",
    "        scores = dict_of_dfs[att].sort_values(measure, ascending = True)[measure][0:n].values\n",
    "\n",
    "    \n",
    "    elif sample == 'radom':\n",
    "        sample_img = dict_of_dfs[att].sort_values(measure, ascending = True)['img'].sample(n).values\n",
    "        scores = dict_of_dfs[att].sort_values(measure, ascending = True)[measure].sample(n).values\n",
    "\n",
    "    else:\n",
    "        print('wrong input')\n",
    "\n",
    "\n",
    "    imgs_dir = '/media/simon/Seagate Expansion Drive/images_spanner'\n",
    "\n",
    "    plt.figure(figsize = [15,10])\n",
    "    for i, j in enumerate(sample_img):\n",
    "\n",
    "        path_image = os.path.join(imgs_dir, j)\n",
    "\n",
    "        plt.subplot(int(np.sqrt(n)), int(np.sqrt(n)), i+1)\n",
    "        plt.subplots_adjust(hspace = 0.3, wspace = 0.1)\n",
    "            \n",
    "        img = cv2.imread(path_image)\n",
    "        img = cv2.cvtColor(img, cv2.COLOR_BGR2RGB) # correcting the colors:\n",
    "        plt.imshow(img)\n",
    "        #plt.xticks([])\n",
    "        #plt.yticks([])\n",
    "        plt.title(f'{j}, {measure} = {scores[i]:.3f}')\n",
    "\n",
    "    suptitle = f'{att}, {sample} {n} images'\n",
    "    plt.suptitle(suptitle, size=16)\n",
    "\n",
    "    fig_path = f'plots/{att}_{measure}_{sample}_{n}.pdf'\n",
    "    plt.savefig(fig_path, bbox_inches=\"tight\")    \n",
    "\n",
    "    plt.show()"
   ]
  },
  {
   "cell_type": "code",
   "execution_count": null,
   "metadata": {},
   "outputs": [],
   "source": []
  },
  {
   "cell_type": "code",
   "execution_count": null,
   "metadata": {},
   "outputs": [],
   "source": []
  },
  {
   "cell_type": "code",
   "execution_count": null,
   "metadata": {},
   "outputs": [],
   "source": [
    "number_list = []\n",
    "x = None\n",
    "\n",
    "while x != 'done':\n",
    "    x = input()\n",
    "\n",
    "    try:\n",
    "        x = float(x)\n",
    "        number_list.append(x)\n",
    "\n",
    "    except:\n",
    "\n",
    "        if x == 'done':\n",
    "            print('all done...')\n",
    "            \n",
    "        \n",
    "        else:\n",
    "            print('Not numeric value')\n",
    "            pass\n",
    "\n",
    "print(max(number_list))\n",
    "print(min(number_list))\n"
   ]
  },
  {
   "cell_type": "code",
   "execution_count": null,
   "metadata": {},
   "outputs": [],
   "source": [
    "while True:\n",
    "    print(1)"
   ]
  },
  {
   "cell_type": "code",
   "execution_count": null,
   "metadata": {},
   "outputs": [],
   "source": []
  },
  {
   "cell_type": "code",
   "execution_count": null,
   "metadata": {},
   "outputs": [],
   "source": []
  },
  {
   "cell_type": "code",
   "execution_count": null,
   "metadata": {},
   "outputs": [],
   "source": [
    "float('r')"
   ]
  },
  {
   "cell_type": "code",
   "execution_count": null,
   "metadata": {},
   "outputs": [],
   "source": []
  },
  {
   "cell_type": "code",
   "execution_count": null,
   "metadata": {},
   "outputs": [],
   "source": []
  },
  {
   "cell_type": "code",
   "execution_count": null,
   "metadata": {},
   "outputs": [],
   "source": []
  },
  {
   "cell_type": "code",
   "execution_count": null,
   "metadata": {},
   "outputs": [],
   "source": []
  },
  {
   "cell_type": "code",
   "execution_count": null,
   "metadata": {},
   "outputs": [],
   "source": []
  },
  {
   "cell_type": "code",
   "execution_count": null,
   "metadata": {},
   "outputs": [],
   "source": []
  },
  {
   "cell_type": "code",
   "execution_count": null,
   "metadata": {},
   "outputs": [],
   "source": []
  },
  {
   "cell_type": "code",
   "execution_count": null,
   "metadata": {},
   "outputs": [],
   "source": []
  },
  {
   "cell_type": "code",
   "execution_count": null,
   "metadata": {},
   "outputs": [],
   "source": [
    "i_list = [] #  empty list\n",
    "i_list"
   ]
  },
  {
   "cell_type": "code",
   "execution_count": null,
   "metadata": {},
   "outputs": [],
   "source": [
    "\n",
    "for i in range(10):\n",
    "    i_list.append(i)\n",
    "\n",
    "i_list"
   ]
  },
  {
   "cell_type": "code",
   "execution_count": null,
   "metadata": {},
   "outputs": [],
   "source": [
    "i_list += i_list\n",
    "i_list"
   ]
  }
 ],
 "metadata": {
  "kernelspec": {
   "display_name": "Python 3.8.13 ('ra_env')",
   "language": "python",
   "name": "python3"
  },
  "language_info": {
   "codemirror_mode": {
    "name": "ipython",
    "version": 3
   },
   "file_extension": ".py",
   "mimetype": "text/x-python",
   "name": "python",
   "nbconvert_exporter": "python",
   "pygments_lexer": "ipython3",
   "version": "3.8.13"
  },
  "orig_nbformat": 4,
  "vscode": {
   "interpreter": {
    "hash": "598a7b5fc01858df36cc1c0a4eb38eebc98bc1606c00c65496daa70f494bd19d"
   }
  }
 },
 "nbformat": 4,
 "nbformat_minor": 2
}
